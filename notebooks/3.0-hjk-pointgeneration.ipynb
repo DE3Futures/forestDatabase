{
 "cells": [
  {
   "cell_type": "markdown",
   "metadata": {},
   "source": [
    "# Point generation\n",
    "\n",
    "The Google Maps JavaScript API is used to generate a database of random points in the Amazon rainforest. The points are simulating resources in the rainforest.\n",
    "\n",
    "Unfortunately, the Google Maps libraries for Python are not sophisticated enough to do point generation. Therefore, this is done using a Javascript file and exporting the generated points to a CSV (https://developers.google.com/maps/documentation/javascript/overview).\n",
    "\n",
    "### Methodology\n",
    "\n",
    "1. Coordinates describing a rough outline for the Amazon rainforest was drawn using Google Maps.\n",
    "\n",
    "The following countries contain sections of the Rainforest:\n",
    "- Brazil\n",
    "- Bolivia\n",
    "- Peru\n",
    "- Ecuador\n",
    "- Colombia\n",
    "- Venezuela\n",
    "- Guyana\n",
    "- Suriname\n",
    "- French Guiana\n",
    "\n",
    "2. The outline for the rainforest was defined in the ```coords``` variable in the ```3.1-hjk-pointgeneration.js``` file (source: https://stackoverflow.com/questions/22852371/how-to-add-a-random-point-inside-a-polygon-in-google-maps). \n",
    "3. The file contains a function that randomly generates a point within this boundary.\n",
    "4. The file was edited to output a csv file of 100 random points in the rainforest. The csv file is called ```XXX.csv```.\n",
    "\n",
    "### Notes \n",
    "\n",
    "- Google MyMaps lets you draw a polygon but does not have an API: https://issuetracker.google.com/issues/35820262?pli=1.\n",
    "- How does Google generate the borders of areas such as countries or the Amazon rainforest? Is there a way of collecting this data?\n",
    "- Could we use the map of Brazil from https://gadm.org/download_country.html? Although this is in the form of a Geopackage or Shape file (https://gadm.org/formats.html)."
   ]
  }
 ],
 "metadata": {
  "language_info": {
   "name": "python"
  },
  "orig_nbformat": 4
 },
 "nbformat": 4,
 "nbformat_minor": 2
}
