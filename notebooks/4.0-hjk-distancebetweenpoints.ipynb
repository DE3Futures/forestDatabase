{
 "cells": [
  {
   "cell_type": "markdown",
   "metadata": {},
   "source": [
    "# Finding the distance between points\n",
    "\n",
    "The goal of this project is to direct locals to the nearest resources in the community. The following code aims to find the distance from the current location to  all the points that contain resources. It will then rank the points in order of distance.\n",
    "\n",
    "The array ```location``` contains the current location of the 'user' (randomly generated). The array ```points``` contains points within the Amazon rainforest that were randomly chosen on google maps. Both can be viewed here: https://www.google.com/maps/d/edit?mid=1JS3r2Ou5hz8sSxVu2IJE99F_ku_gcu1F&usp=sharing"
   ]
  },
  {
   "cell_type": "code",
   "execution_count": 3,
   "metadata": {},
   "outputs": [],
   "source": [
    "location = [-4.876378923731542, -66.8971316117201] # random coordinate for current location\n",
    "points = [ \n",
    "    [-5.6552712680378185, -61.41233719985175],\n",
    "    [-6.031327857836041, -66.56899516778184],\n",
    "    [-11.371773178401273, -73.10002414825989],\n",
    "    [-6.040267451693335, -66.93501543774892],\n",
    "    [-4.975770221179577, -69.23184518063609]\n",
    "]"
   ]
  },
  {
   "cell_type": "markdown",
   "metadata": {},
   "source": [
    "The Haversine distance is calculated between the current location and each point. This is put into a dictionary as follows:\n",
    "\n",
    "```\n",
    "{\n",
    "    distance1: point1,\n",
    "    distance2: point2\n",
    "    ....\n",
    "}\n",
    "```\n",
    "\n",
    "More info: \n",
    "- https://en.wikipedia.org/wiki/Haversine_formula \n",
    "- https://pypi.org/project/haversine/ "
   ]
  },
  {
   "cell_type": "code",
   "execution_count": 10,
   "metadata": {},
   "outputs": [
    {
     "name": "stdout",
     "output_type": "stream",
     "text": [
      "{129.48659472393675: [-6.040267451693335, -66.93501543774892], 133.4620865875725: [-6.031327857836041, -66.56899516778184], 258.8855950804449: [-4.975770221179577, -69.23184518063609], 613.4461591543949: [-5.6552712680378185, -61.41233719985175], 993.6512547406677: [-11.371773178401273, -73.10002414825989]}\n"
     ]
    }
   ],
   "source": [
    "from haversine import haversine, Unit\n",
    "\n",
    "distances = {}\n",
    "\n",
    "for val in points:\n",
    "    distances[haversine( location, val )] = val\n",
    " \n",
    "distances = dict(sorted(distances.items()))\n",
    "print(distances)"
   ]
  },
  {
   "cell_type": "code",
   "execution_count": null,
   "metadata": {},
   "outputs": [],
   "source": []
  }
 ],
 "metadata": {
  "interpreter": {
   "hash": "8944ac20941febd3898b0b9a08c0e7cafc7c4835a26d6ed6b5e365f07f1b2728"
  },
  "kernelspec": {
   "display_name": "Python 3.8.3 ('base')",
   "language": "python",
   "name": "python3"
  },
  "language_info": {
   "codemirror_mode": {
    "name": "ipython",
    "version": 3
   },
   "file_extension": ".py",
   "mimetype": "text/x-python",
   "name": "python",
   "nbconvert_exporter": "python",
   "pygments_lexer": "ipython3",
   "version": "3.8.3"
  },
  "orig_nbformat": 4
 },
 "nbformat": 4,
 "nbformat_minor": 2
}
