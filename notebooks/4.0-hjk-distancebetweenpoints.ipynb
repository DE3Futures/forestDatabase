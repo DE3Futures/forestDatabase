{
 "cells": [
  {
   "cell_type": "markdown",
   "metadata": {},
   "source": [
    "# Finding the distance between points\n",
    "\n",
    "The goal of this project is to direct locals to the nearest resources in the community. The following code aims to find the distance from the current location to  all the points that contain resources. It will then rank the points in order of distance.\n",
    "\n",
    "The array ```location``` contains the current location of the 'user' (randomly generated). The array ```points``` contains points within the Amazon rainforest that were randomly chosen on google maps. Both can be viewed here: https://www.google.com/maps/d/edit?mid=1JS3r2Ou5hz8sSxVu2IJE99F_ku_gcu1F&usp=sharing\n",
    "\n",
    "Note: For now, the coordinates were picked by (my own) eye using Google Maps. If more points want to be generated, see ```3.0-hjk-pointgeneration.ipynb```."
   ]
  },
  {
   "cell_type": "code",
   "execution_count": 2,
   "metadata": {},
   "outputs": [],
   "source": [
    "location = [-4.876378923731542, -66.8971316117201] # random coordinate for current location\n",
    "\n",
    "p = {\n",
    "        'coordinates': [\n",
    "            [-5.6552712680378185, -61.41233719985175],\n",
    "            [-6.031327857836041, -66.56899516778184],\n",
    "            [-11.371773178401273, -73.10002414825989],\n",
    "            [-6.040267451693335, -66.93501543774892],\n",
    "            [-4.975770221179577, -69.23184518063609]\n",
    "        ], \n",
    "        'maxpeople': [\n",
    "            1, \n",
    "            1,\n",
    "            5, \n",
    "            2,\n",
    "            2\n",
    "        ],\n",
    "        'distances': [\n",
    "        ]\n",
    "    }\n"
   ]
  },
  {
   "cell_type": "markdown",
   "metadata": {},
   "source": [
    "The Haversine distance is calculated between the current location and each point. This is put into a dictionary as follows:\n",
    "\n",
    "```\n",
    "{\n",
    "    distance1: point1,\n",
    "    distance2: point2\n",
    "    ....\n",
    "}\n",
    "```\n",
    "\n",
    "More info: \n",
    "- https://en.wikipedia.org/wiki/Haversine_formula \n",
    "- https://pypi.org/project/haversine/ "
   ]
  },
  {
   "cell_type": "code",
   "execution_count": 3,
   "metadata": {},
   "outputs": [
    {
     "name": "stdout",
     "output_type": "stream",
     "text": [
      "{'coordinates': [[-5.6552712680378185, -61.41233719985175], [-6.031327857836041, -66.56899516778184], [-11.371773178401273, -73.10002414825989], [-6.040267451693335, -66.93501543774892], [-4.975770221179577, -69.23184518063609]], 'maxpeople': [1, 1, 5, 2, 2], 'distances': [613.4461591543949, 133.4620865875725, 993.6512547406677, 129.48659472393675, 258.8855950804449]}\n"
     ]
    }
   ],
   "source": [
    "from haversine import haversine, Unit\n",
    "\n",
    "p['distances'] = []\n",
    "\n",
    "for val in p['coordinates']:\n",
    "    p['distances'].append(haversine( location, val )) # in km\n",
    " \n",
    "print(p)"
   ]
  },
  {
   "cell_type": "markdown",
   "metadata": {},
   "source": [
    "The next step is to convert to a pandas dataframe, and then all the rows can be ordered according to the distance."
   ]
  },
  {
   "cell_type": "code",
   "execution_count": 4,
   "metadata": {},
   "outputs": [
    {
     "data": {
      "text/html": [
       "<div>\n",
       "<style scoped>\n",
       "    .dataframe tbody tr th:only-of-type {\n",
       "        vertical-align: middle;\n",
       "    }\n",
       "\n",
       "    .dataframe tbody tr th {\n",
       "        vertical-align: top;\n",
       "    }\n",
       "\n",
       "    .dataframe thead th {\n",
       "        text-align: right;\n",
       "    }\n",
       "</style>\n",
       "<table border=\"1\" class=\"dataframe\">\n",
       "  <thead>\n",
       "    <tr style=\"text-align: right;\">\n",
       "      <th></th>\n",
       "      <th>coordinates</th>\n",
       "      <th>maxpeople</th>\n",
       "      <th>distances</th>\n",
       "    </tr>\n",
       "  </thead>\n",
       "  <tbody>\n",
       "    <tr>\n",
       "      <th>0</th>\n",
       "      <td>[-5.6552712680378185, -61.41233719985175]</td>\n",
       "      <td>1</td>\n",
       "      <td>613.446159</td>\n",
       "    </tr>\n",
       "    <tr>\n",
       "      <th>1</th>\n",
       "      <td>[-6.031327857836041, -66.56899516778184]</td>\n",
       "      <td>1</td>\n",
       "      <td>133.462087</td>\n",
       "    </tr>\n",
       "    <tr>\n",
       "      <th>2</th>\n",
       "      <td>[-11.371773178401273, -73.10002414825989]</td>\n",
       "      <td>5</td>\n",
       "      <td>993.651255</td>\n",
       "    </tr>\n",
       "    <tr>\n",
       "      <th>3</th>\n",
       "      <td>[-6.040267451693335, -66.93501543774892]</td>\n",
       "      <td>2</td>\n",
       "      <td>129.486595</td>\n",
       "    </tr>\n",
       "    <tr>\n",
       "      <th>4</th>\n",
       "      <td>[-4.975770221179577, -69.23184518063609]</td>\n",
       "      <td>2</td>\n",
       "      <td>258.885595</td>\n",
       "    </tr>\n",
       "  </tbody>\n",
       "</table>\n",
       "</div>"
      ],
      "text/plain": [
       "                                 coordinates  maxpeople   distances\n",
       "0  [-5.6552712680378185, -61.41233719985175]          1  613.446159\n",
       "1   [-6.031327857836041, -66.56899516778184]          1  133.462087\n",
       "2  [-11.371773178401273, -73.10002414825989]          5  993.651255\n",
       "3   [-6.040267451693335, -66.93501543774892]          2  129.486595\n",
       "4   [-4.975770221179577, -69.23184518063609]          2  258.885595"
      ]
     },
     "execution_count": 4,
     "metadata": {},
     "output_type": "execute_result"
    }
   ],
   "source": [
    "import pandas as pd\n",
    "df = pd.DataFrame.from_dict(p)\n",
    "df.head()"
   ]
  },
  {
   "cell_type": "code",
   "execution_count": 5,
   "metadata": {},
   "outputs": [
    {
     "data": {
      "text/html": [
       "<div>\n",
       "<style scoped>\n",
       "    .dataframe tbody tr th:only-of-type {\n",
       "        vertical-align: middle;\n",
       "    }\n",
       "\n",
       "    .dataframe tbody tr th {\n",
       "        vertical-align: top;\n",
       "    }\n",
       "\n",
       "    .dataframe thead th {\n",
       "        text-align: right;\n",
       "    }\n",
       "</style>\n",
       "<table border=\"1\" class=\"dataframe\">\n",
       "  <thead>\n",
       "    <tr style=\"text-align: right;\">\n",
       "      <th></th>\n",
       "      <th>coordinates</th>\n",
       "      <th>maxpeople</th>\n",
       "      <th>distances</th>\n",
       "    </tr>\n",
       "  </thead>\n",
       "  <tbody>\n",
       "    <tr>\n",
       "      <th>3</th>\n",
       "      <td>[-6.040267451693335, -66.93501543774892]</td>\n",
       "      <td>2</td>\n",
       "      <td>129.486595</td>\n",
       "    </tr>\n",
       "    <tr>\n",
       "      <th>1</th>\n",
       "      <td>[-6.031327857836041, -66.56899516778184]</td>\n",
       "      <td>1</td>\n",
       "      <td>133.462087</td>\n",
       "    </tr>\n",
       "    <tr>\n",
       "      <th>4</th>\n",
       "      <td>[-4.975770221179577, -69.23184518063609]</td>\n",
       "      <td>2</td>\n",
       "      <td>258.885595</td>\n",
       "    </tr>\n",
       "    <tr>\n",
       "      <th>0</th>\n",
       "      <td>[-5.6552712680378185, -61.41233719985175]</td>\n",
       "      <td>1</td>\n",
       "      <td>613.446159</td>\n",
       "    </tr>\n",
       "    <tr>\n",
       "      <th>2</th>\n",
       "      <td>[-11.371773178401273, -73.10002414825989]</td>\n",
       "      <td>5</td>\n",
       "      <td>993.651255</td>\n",
       "    </tr>\n",
       "  </tbody>\n",
       "</table>\n",
       "</div>"
      ],
      "text/plain": [
       "                                 coordinates  maxpeople   distances\n",
       "3   [-6.040267451693335, -66.93501543774892]          2  129.486595\n",
       "1   [-6.031327857836041, -66.56899516778184]          1  133.462087\n",
       "4   [-4.975770221179577, -69.23184518063609]          2  258.885595\n",
       "0  [-5.6552712680378185, -61.41233719985175]          1  613.446159\n",
       "2  [-11.371773178401273, -73.10002414825989]          5  993.651255"
      ]
     },
     "execution_count": 5,
     "metadata": {},
     "output_type": "execute_result"
    }
   ],
   "source": [
    "# ordering according to distance\n",
    "df = df.sort_values(by=['distances'])\n",
    "df.head()"
   ]
  },
  {
   "cell_type": "markdown",
   "metadata": {},
   "source": [
    "Loop through the maxpeople column, as soon as maxpeople is greater than or equal to the people in team, that point is chosen."
   ]
  },
  {
   "cell_type": "code",
   "execution_count": 7,
   "metadata": {},
   "outputs": [
    {
     "name": "stdout",
     "output_type": "stream",
     "text": [
      "coordinates    [-6.031327857836041, -66.56899516778184]\n",
      "maxpeople                                             1\n",
      "distances                                    133.462087\n",
      "Name: 1, dtype: object\n"
     ]
    }
   ],
   "source": [
    "maxpeople = 1 # for now this is set manually\n",
    "point = df[df.maxpeople <= maxpeople].iloc[0]\n",
    "print(point)"
   ]
  }
 ],
 "metadata": {
  "interpreter": {
   "hash": "8944ac20941febd3898b0b9a08c0e7cafc7c4835a26d6ed6b5e365f07f1b2728"
  },
  "kernelspec": {
   "display_name": "Python 3.8.3 ('base')",
   "language": "python",
   "name": "python3"
  },
  "language_info": {
   "codemirror_mode": {
    "name": "ipython",
    "version": 3
   },
   "file_extension": ".py",
   "mimetype": "text/x-python",
   "name": "python",
   "nbconvert_exporter": "python",
   "pygments_lexer": "ipython3",
   "version": "3.8.3"
  },
  "orig_nbformat": 4
 },
 "nbformat": 4,
 "nbformat_minor": 2
}
