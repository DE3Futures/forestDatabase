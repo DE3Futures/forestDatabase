{
 "cells": [
  {
   "cell_type": "markdown",
   "metadata": {},
   "source": [
    "# Exploring the data\n",
    "\n",
    "This explores the _RA Farm list December 2021_ sheet withing the _Certified-Farms-CoC-Operations-January-2022.xlsx_ file."
   ]
  },
  {
   "cell_type": "code",
   "execution_count": 1,
   "metadata": {},
   "outputs": [],
   "source": [
    "# loading modules\n",
    "import pandas as pd\n",
    "import numpy as np\n",
    "%matplotlib inline"
   ]
  },
  {
   "cell_type": "code",
   "execution_count": 3,
   "metadata": {},
   "outputs": [
    {
     "name": "stdout",
     "output_type": "stream",
     "text": [
      "<class 'pandas.core.frame.DataFrame'>\n",
      "RangeIndex: 3327 entries, 0 to 3326\n",
      "Data columns (total 19 columns):\n",
      " #   Column               Non-Null Count  Dtype         \n",
      "---  ------               --------------  -----         \n",
      " 0   Farm name            3327 non-null   object        \n",
      " 1   Crop                 3327 non-null   object        \n",
      " 2   Category             3327 non-null   object        \n",
      " 3   Type                 3327 non-null   object        \n",
      " 4   Total Hectares       3327 non-null   float64       \n",
      " 5   Production Hectares  3327 non-null   float64       \n",
      " 6   Volume               3327 non-null   float64       \n",
      " 7   Unit                 3327 non-null   object        \n",
      " 8   Total Workers        3327 non-null   int64         \n",
      " 9   Female workers       3327 non-null   int64         \n",
      " 10  Male Workers         3327 non-null   int64         \n",
      " 11  Producers            3327 non-null   int64         \n",
      " 12  Country              3327 non-null   object        \n",
      " 13  Continent            3327 non-null   object        \n",
      " 14  Certification Body   3327 non-null   object        \n",
      " 15  Date First Issued    3302 non-null   datetime64[ns]\n",
      " 16  Last issued          3327 non-null   datetime64[ns]\n",
      " 17  Expiration Date      3327 non-null   datetime64[ns]\n",
      " 18  Certificate Code     3327 non-null   object        \n",
      "dtypes: datetime64[ns](3), float64(3), int64(4), object(9)\n",
      "memory usage: 494.0+ KB\n"
     ]
    },
    {
     "data": {
      "text/html": [
       "<div>\n",
       "<style scoped>\n",
       "    .dataframe tbody tr th:only-of-type {\n",
       "        vertical-align: middle;\n",
       "    }\n",
       "\n",
       "    .dataframe tbody tr th {\n",
       "        vertical-align: top;\n",
       "    }\n",
       "\n",
       "    .dataframe thead th {\n",
       "        text-align: right;\n",
       "    }\n",
       "</style>\n",
       "<table border=\"1\" class=\"dataframe\">\n",
       "  <thead>\n",
       "    <tr style=\"text-align: right;\">\n",
       "      <th></th>\n",
       "      <th>Farm name</th>\n",
       "      <th>Crop</th>\n",
       "      <th>Category</th>\n",
       "      <th>Type</th>\n",
       "      <th>Total Hectares</th>\n",
       "      <th>Production Hectares</th>\n",
       "      <th>Volume</th>\n",
       "      <th>Unit</th>\n",
       "      <th>Total Workers</th>\n",
       "      <th>Female workers</th>\n",
       "      <th>Male Workers</th>\n",
       "      <th>Producers</th>\n",
       "      <th>Country</th>\n",
       "      <th>Continent</th>\n",
       "      <th>Certification Body</th>\n",
       "      <th>Date First Issued</th>\n",
       "      <th>Last issued</th>\n",
       "      <th>Expiration Date</th>\n",
       "      <th>Certificate Code</th>\n",
       "    </tr>\n",
       "  </thead>\n",
       "  <tbody>\n",
       "    <tr>\n",
       "      <th>0</th>\n",
       "      <td>Glatfelter CASI (Catanduanes Abaca Sustainabil...</td>\n",
       "      <td>Abaca</td>\n",
       "      <td>Ornamental &amp; medicinal plants</td>\n",
       "      <td>Group</td>\n",
       "      <td>855.71</td>\n",
       "      <td>598.22</td>\n",
       "      <td>671513.0</td>\n",
       "      <td>kg</td>\n",
       "      <td>48</td>\n",
       "      <td>4</td>\n",
       "      <td>44</td>\n",
       "      <td>228</td>\n",
       "      <td>Philippines</td>\n",
       "      <td>Asia</td>\n",
       "      <td>Preferred by Nature - Nepcon OÜ</td>\n",
       "      <td>2013-02-08</td>\n",
       "      <td>2018-09-12</td>\n",
       "      <td>2022-03-11</td>\n",
       "      <td>NC-G-06319</td>\n",
       "    </tr>\n",
       "    <tr>\n",
       "      <th>1</th>\n",
       "      <td>Organic Supply S.A.</td>\n",
       "      <td>Abaca</td>\n",
       "      <td>Ornamental &amp; medicinal plants</td>\n",
       "      <td>Group</td>\n",
       "      <td>2016.89</td>\n",
       "      <td>8.20</td>\n",
       "      <td>16501.0</td>\n",
       "      <td>kg</td>\n",
       "      <td>143</td>\n",
       "      <td>35</td>\n",
       "      <td>108</td>\n",
       "      <td>33</td>\n",
       "      <td>Ecuador</td>\n",
       "      <td>South America</td>\n",
       "      <td>CERES</td>\n",
       "      <td>2021-04-27</td>\n",
       "      <td>2021-04-27</td>\n",
       "      <td>2024-04-26</td>\n",
       "      <td>CERES-G-103153</td>\n",
       "    </tr>\n",
       "    <tr>\n",
       "      <th>2</th>\n",
       "      <td>GRUPO JADE DEL CARIBE S.A.</td>\n",
       "      <td>Abaca</td>\n",
       "      <td>Ornamental &amp; medicinal plants</td>\n",
       "      <td>Group</td>\n",
       "      <td>740.56</td>\n",
       "      <td>14.42</td>\n",
       "      <td>129780.0</td>\n",
       "      <td>kg</td>\n",
       "      <td>556</td>\n",
       "      <td>61</td>\n",
       "      <td>495</td>\n",
       "      <td>3</td>\n",
       "      <td>Costa Rica</td>\n",
       "      <td>Central America</td>\n",
       "      <td>Preferred by Nature - Nepcon OÜ</td>\n",
       "      <td>2008-01-01</td>\n",
       "      <td>2021-05-08</td>\n",
       "      <td>2024-05-07</td>\n",
       "      <td>NC-G-00895</td>\n",
       "    </tr>\n",
       "    <tr>\n",
       "      <th>3</th>\n",
       "      <td>Glatfelter Costa Rica S.R.L</td>\n",
       "      <td>Abaca</td>\n",
       "      <td>Ornamental &amp; medicinal plants</td>\n",
       "      <td>Group</td>\n",
       "      <td>55.99</td>\n",
       "      <td>24.75</td>\n",
       "      <td>48700.0</td>\n",
       "      <td>kg</td>\n",
       "      <td>10</td>\n",
       "      <td>2</td>\n",
       "      <td>8</td>\n",
       "      <td>7</td>\n",
       "      <td>Costa Rica</td>\n",
       "      <td>Central America</td>\n",
       "      <td>CERES</td>\n",
       "      <td>2021-07-22</td>\n",
       "      <td>2021-07-22</td>\n",
       "      <td>2024-07-21</td>\n",
       "      <td>CERES-G-103366</td>\n",
       "    </tr>\n",
       "    <tr>\n",
       "      <th>4</th>\n",
       "      <td>Top Açaí Industria e Comercio de Polpas de Fru...</td>\n",
       "      <td>Açaí</td>\n",
       "      <td>Fruit</td>\n",
       "      <td>Group</td>\n",
       "      <td>309.60</td>\n",
       "      <td>245.84</td>\n",
       "      <td>161524.0</td>\n",
       "      <td>kg</td>\n",
       "      <td>2</td>\n",
       "      <td>0</td>\n",
       "      <td>2</td>\n",
       "      <td>4</td>\n",
       "      <td>Brazil</td>\n",
       "      <td>South America</td>\n",
       "      <td>IBD</td>\n",
       "      <td>2019-01-24</td>\n",
       "      <td>2019-01-24</td>\n",
       "      <td>2022-01-23</td>\n",
       "      <td>IBD-G-101885</td>\n",
       "    </tr>\n",
       "  </tbody>\n",
       "</table>\n",
       "</div>"
      ],
      "text/plain": [
       "                                           Farm name   Crop  \\\n",
       "0  Glatfelter CASI (Catanduanes Abaca Sustainabil...  Abaca   \n",
       "1                                Organic Supply S.A.  Abaca   \n",
       "2                         GRUPO JADE DEL CARIBE S.A.  Abaca   \n",
       "3                        Glatfelter Costa Rica S.R.L  Abaca   \n",
       "4  Top Açaí Industria e Comercio de Polpas de Fru...   Açaí   \n",
       "\n",
       "                        Category   Type  Total Hectares  Production Hectares  \\\n",
       "0  Ornamental & medicinal plants  Group          855.71               598.22   \n",
       "1  Ornamental & medicinal plants  Group         2016.89                 8.20   \n",
       "2  Ornamental & medicinal plants  Group          740.56                14.42   \n",
       "3  Ornamental & medicinal plants  Group           55.99                24.75   \n",
       "4                          Fruit  Group          309.60               245.84   \n",
       "\n",
       "     Volume Unit  Total Workers  Female workers  Male Workers  Producers  \\\n",
       "0  671513.0   kg             48               4            44        228   \n",
       "1   16501.0   kg            143              35           108         33   \n",
       "2  129780.0   kg            556              61           495          3   \n",
       "3   48700.0   kg             10               2             8          7   \n",
       "4  161524.0   kg              2               0             2          4   \n",
       "\n",
       "       Country        Continent              Certification Body   \\\n",
       "0  Philippines             Asia  Preferred by Nature - Nepcon OÜ   \n",
       "1      Ecuador    South America                            CERES   \n",
       "2   Costa Rica  Central America  Preferred by Nature - Nepcon OÜ   \n",
       "3   Costa Rica  Central America                            CERES   \n",
       "4       Brazil    South America                              IBD   \n",
       "\n",
       "  Date First Issued Last issued Expiration Date Certificate Code  \n",
       "0        2013-02-08  2018-09-12      2022-03-11       NC-G-06319  \n",
       "1        2021-04-27  2021-04-27      2024-04-26   CERES-G-103153  \n",
       "2        2008-01-01  2021-05-08      2024-05-07       NC-G-00895  \n",
       "3        2021-07-22  2021-07-22      2024-07-21   CERES-G-103366  \n",
       "4        2019-01-24  2019-01-24      2022-01-23     IBD-G-101885  "
      ]
     },
     "execution_count": 3,
     "metadata": {},
     "output_type": "execute_result"
    }
   ],
   "source": [
    "# loading data\n",
    "df = pd.read_excel(r\"..\\data\\interim\\Certified-Farms-CoC-Operations-January-2022.xlsx\", sheet_name=\"RA Farm list December 2021\")\n",
    "df.info()\n",
    "df.head()"
   ]
  },
  {
   "cell_type": "markdown",
   "metadata": {},
   "source": [
    "There are 3327 farms and:\n",
    "- 153 unique crops\n",
    "- 14 categories ['Ornamental & medicinal plants', 'Fruit', 'Herbs & Spices',\n",
    "       'Nuts and other seeds', 'Vegetable', 'Cereal',\n",
    "       'Oilseeds and oleaginous', 'Cattle', 'Cocoa', 'Coffee',\n",
    "       'Multi-ingredient consumer product', 'Rooibos', 'Rubber Tree',\n",
    "       'Tea']\n",
    "- 3 types ['Group', 'Farm', 'Multi-site']\n",
    "- 11 certification bodies ['Preferred by Nature - Nepcon OÜ', 'CERES', 'IBD', 'Indocert',\n",
    "       'CyD', 'Africert', 'Ecocert', 'Naturacert', 'PPS', 'Imaflora',\n",
    "       'IMO India']\n"
   ]
  },
  {
   "cell_type": "code",
   "execution_count": 28,
   "metadata": {},
   "outputs": [
    {
     "data": {
      "text/plain": [
       "11"
      ]
     },
     "execution_count": 28,
     "metadata": {},
     "output_type": "execute_result"
    }
   ],
   "source": [
    "len(df[\"Certification Body \"].unique())"
   ]
  },
  {
   "cell_type": "code",
   "execution_count": 18,
   "metadata": {},
   "outputs": [
    {
     "data": {
      "text/plain": [
       "<matplotlib.axes._subplots.AxesSubplot at 0x2df68c82280>"
      ]
     },
     "execution_count": 18,
     "metadata": {},
     "output_type": "execute_result"
    },
    {
     "data": {
      "image/png": "[encoded data removed]",
      "text/plain": [
       "<Figure size 432x288 with 1 Axes>"
      ]
     },
     "metadata": {
      "needs_background": "light"
     },
     "output_type": "display_data"
    }
   ],
   "source": [
    "df[\"Total Hectares\"].plot.hist(bins=5) # obvs some outliers"
   ]
  },
  {
   "cell_type": "code",
   "execution_count": 21,
   "metadata": {},
   "outputs": [
    {
     "data": {
      "text/plain": [
       "<matplotlib.axes._subplots.AxesSubplot at 0x2df6665c040>"
      ]
     },
     "execution_count": 21,
     "metadata": {},
     "output_type": "execute_result"
    },
    {
     "data": {
      "image/png": "[encoded data removed]",
      "text/plain": [
       "<Figure size 432x288 with 1 Axes>"
      ]
     },
     "metadata": {
      "needs_background": "light"
     },
     "output_type": "display_data"
    }
   ],
   "source": [
    "df.boxplot(column=['Total Hectares', 'Production Hectares'])"
   ]
  },
  {
   "cell_type": "code",
   "execution_count": 22,
   "metadata": {},
   "outputs": [
    {
     "data": {
      "text/plain": [
       "<matplotlib.axes._subplots.AxesSubplot at 0x2df665b9730>"
      ]
     },
     "execution_count": 22,
     "metadata": {},
     "output_type": "execute_result"
    },
    {
     "data": {
      "image/png": "[encoded data removed]",
      "text/plain": [
       "<Figure size 432x288 with 1 Axes>"
      ]
     },
     "metadata": {
      "needs_background": "light"
     },
     "output_type": "display_data"
    }
   ],
   "source": [
    "df.boxplot(column=['Volume'])"
   ]
  },
  {
   "cell_type": "code",
   "execution_count": 24,
   "metadata": {},
   "outputs": [
    {
     "data": {
      "text/plain": [
       "<matplotlib.axes._subplots.AxesSubplot at 0x2df68e0d550>"
      ]
     },
     "execution_count": 24,
     "metadata": {},
     "output_type": "execute_result"
    },
    {
     "data": {
      "image/png": "[encoded data removed]",
      "text/plain": [
       "<Figure size 432x288 with 1 Axes>"
      ]
     },
     "metadata": {
      "needs_background": "light"
     },
     "output_type": "display_data"
    }
   ],
   "source": [
    "df.boxplot(column=['Female workers', 'Male Workers'])"
   ]
  },
  {
   "cell_type": "markdown",
   "metadata": {},
   "source": [
    "Do outliers need to be removed from these columns for prediction?"
   ]
  }
 ],
 "metadata": {
  "interpreter": {
   "hash": "8944ac20941febd3898b0b9a08c0e7cafc7c4835a26d6ed6b5e365f07f1b2728"
  },
  "kernelspec": {
   "display_name": "Python 3.8.3 ('base')",
   "language": "python",
   "name": "python3"
  },
  "language_info": {
   "codemirror_mode": {
    "name": "ipython",
    "version": 3
   },
   "file_extension": ".py",
   "mimetype": "text/x-python",
   "name": "python",
   "nbconvert_exporter": "python",
   "pygments_lexer": "ipython3",
   "version": "3.8.3"
  },
  "orig_nbformat": 4
 },
 "nbformat": 4,
 "nbformat_minor": 2
}
